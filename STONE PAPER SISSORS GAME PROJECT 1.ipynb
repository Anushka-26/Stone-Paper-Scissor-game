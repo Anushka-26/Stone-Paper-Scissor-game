{
 "cells": [
  {
   "cell_type": "code",
   "execution_count": 34,
   "metadata": {},
   "outputs": [],
   "source": [
    "from tkinter import *"
   ]
  },
  {
   "cell_type": "code",
   "execution_count": 35,
   "metadata": {},
   "outputs": [],
   "source": [
    "import random"
   ]
  },
  {
   "cell_type": "code",
   "execution_count": 36,
   "metadata": {},
   "outputs": [
    {
     "data": {
      "text/plain": [
       "''"
      ]
     },
     "execution_count": 36,
     "metadata": {},
     "output_type": "execute_result"
    }
   ],
   "source": [
    "import tkinter as tk\n",
    "screen = tk.Tk()\n",
    "screen.geometry(\"400x400\")\n",
    "screen.title(\"Stone Paper Scissors Game\")\n"
   ]
  },
  {
   "cell_type": "code",
   "execution_count": 37,
   "metadata": {},
   "outputs": [],
   "source": [
    "user_score=0\n",
    "comp_score=0\n",
    "user_choice=\"\"\n",
    "comp_choice=\"\""
   ]
  },
  {
   "cell_type": "code",
   "execution_count": 38,
   "metadata": {},
   "outputs": [],
   "source": [
    "def choice_to_number(choice):\n",
    "    rps={\"stone\":0,\"paper\":1,\"scissors\":2}\n",
    "    return rps[choice]"
   ]
  },
  {
   "cell_type": "code",
   "execution_count": 39,
   "metadata": {},
   "outputs": [],
   "source": [
    "def number_to_choice(number):\n",
    "    rps={0:'stone',1:'paper',2:'scissors'}\n",
    "    return rps[number]"
   ]
  },
  {
   "cell_type": "code",
   "execution_count": 40,
   "metadata": {},
   "outputs": [],
   "source": [
    "def random_computer_choice():\n",
    "    return random.choice(['stone','paper','scissors'])"
   ]
  },
  {
   "cell_type": "code",
   "execution_count": 41,
   "metadata": {},
   "outputs": [],
   "source": [
    "def result(human_choice,comp_choice):\n",
    "    global user_score\n",
    "    global comp_score\n",
    "    user=choice_to_number(human_choice)\n",
    "    comp=number_to_choice(comp_choice)\n",
    "    if(user==comp):\n",
    "        print(\"Its a Tie\")\n",
    "    elif (user-comp)%3==1:\n",
    "            print(\"You win\")\n",
    "            user_score=user_score+1\n",
    "    else:\n",
    "            print(\"Computer wins\")\n",
    "            comp_score=comp_score+1\n",
    "    \n",
    "    l1 = tk.Text(screen,height=12,width=30,bg=\"#f2d8e2\")\n",
    "    l1.grid(column=0,row=0)\n",
    "    answer=\"Your choice : {uc} \\nComputer choice : {cc} \\nUser score : {u} \\Computer score : {c}\".format(uc=user_choice,\n",
    "    cc=comp_choice, u=user_score, c=comp_score)\n",
    "    l1.insert(tk.END,answer)"
   ]
  },
  {
   "cell_type": "code",
   "execution_count": 42,
   "metadata": {},
   "outputs": [],
   "source": [
    "def stone():\n",
    "    global user_choice\n",
    "    global comp_choice\n",
    "    user_choice = \"stone\"\n",
    "    comp_choice = random_computer_choice()\n",
    "    result(user_choice, comp_choice)\n",
    "\n",
    "\n",
    "def paper():\n",
    "    global user_choice\n",
    "    global comp_choice\n",
    "    user_choice = \"paper\"\n",
    "    comp_choice = random_computer_choice()\n",
    "    result(user_choice, comp_choice)\n",
    "\n",
    "\n",
    "def scissors():\n",
    "    global user_choice\n",
    "    global comp_choice\n",
    "    user_choice = \"scissors\"\n",
    "    comp_choice = random_computer_choice()\n",
    "    result(user_choice, comp_choice)"
   ]
  },
  {
   "cell_type": "code",
   "execution_count": 43,
   "metadata": {},
   "outputs": [],
   "source": [
    "button1=tk.Button(text='    STONE    ',bg='#008CC7',command=stone)\n",
    "button1.grid(column=0,row=1)\n",
    "button1=tk.Button(text='    PAPER    ',bg='#BC0FAF',command=paper)\n",
    "button1.grid(column=0,row=2)\n",
    "button1=tk.Button(text='    SCISSORS    ',bg='#0FBC48',command=scissors)\n",
    "button1.grid(column=0,row=3)"
   ]
  },
  {
   "cell_type": "code",
   "execution_count": 45,
   "metadata": {},
   "outputs": [],
   "source": [
    "screen.mainloop()"
   ]
  },
  {
   "cell_type": "code",
   "execution_count": null,
   "metadata": {},
   "outputs": [],
   "source": []
  },
  {
   "cell_type": "code",
   "execution_count": null,
   "metadata": {},
   "outputs": [],
   "source": []
  },
  {
   "cell_type": "code",
   "execution_count": null,
   "metadata": {},
   "outputs": [],
   "source": []
  },
  {
   "cell_type": "code",
   "execution_count": null,
   "metadata": {},
   "outputs": [],
   "source": []
  },
  {
   "cell_type": "code",
   "execution_count": null,
   "metadata": {},
   "outputs": [],
   "source": []
  },
  {
   "cell_type": "code",
   "execution_count": null,
   "metadata": {},
   "outputs": [],
   "source": []
  },
  {
   "cell_type": "code",
   "execution_count": null,
   "metadata": {},
   "outputs": [],
   "source": []
  }
 ],
 "metadata": {
  "kernelspec": {
   "display_name": "Python 3",
   "language": "python",
   "name": "python3"
  },
  "language_info": {
   "codemirror_mode": {
    "name": "ipython",
    "version": 3
   },
   "file_extension": ".py",
   "mimetype": "text/x-python",
   "name": "python",
   "nbconvert_exporter": "python",
   "pygments_lexer": "ipython3",
   "version": "3.8.5"
  }
 },
 "nbformat": 4,
 "nbformat_minor": 4
}
